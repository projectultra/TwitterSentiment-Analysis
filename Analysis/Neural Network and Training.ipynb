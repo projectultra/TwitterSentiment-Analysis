{
  "cells": [
    {
      "cell_type": "code",
      "execution_count": 112,
      "metadata": {
        "id": "O49jW7xOxFsp"
      },
      "outputs": [],
      "source": [
        "import numpy as np\n",
        "import pandas as pd\n",
        "import keras as ks\n",
        "import tensorflow as tf\n",
        "from tensorflow import keras\n",
        "from sklearn.model_selection import train_test_split\n",
        "from keras.preprocessing.text import Tokenizer\n",
        "from keras import layers\n",
        "from keras.utils import pad_sequences\n",
        "from sklearn.metrics import precision_recall_curve\n",
        "from wordcloud import WordCloud\n",
        "import matplotlib.pyplot as plt\n",
        "import nltk\n",
        "from nltk.corpus import stopwords\n",
        "import seaborn as sns\n",
        "from sklearn.metrics import confusion_matrix, classification_report\n",
        "\n",
        "train = pd.read_csv('/content/training_dataset.csv')\n",
        "test = pd.read_csv('/content/testing_dataset.csv')\n",
        "#Importing necessary packages and files"
      ]
    },
    {
      "cell_type": "code",
      "execution_count": 113,
      "metadata": {
        "id": "aSFYq2EwDnXj"
      },
      "outputs": [],
      "source": [
        "train=train.astype(str)\n",
        "test=test.astype(str)\n",
        "\n",
        "max_words = 5000\n",
        "#max words denotes the max number that can be converted to\n",
        "\n",
        "max_len = 16\n",
        "#max len denotes the no of words in a tweet to be represented as token"
      ]
    },
    {
      "cell_type": "code",
      "execution_count": 114,
      "metadata": {
        "id": "XH0Uj2iNFgXc"
      },
      "outputs": [],
      "source": [
        "train_labels = train['Sentiment'].values\n",
        "train_labels = ks.utils.to_categorical(train_labels,4,dtype=\"float32\")\n",
        "vectorizer = layers.TextVectorization(max_tokens=max_words, output_mode='int', output_sequence_length=max_len)\n",
        "vectorizer.adapt(train['tidy_tweet'])\n",
        "train_vectorized = vectorizer(train['tidy_tweet'])"
      ]
    },
    {
      "cell_type": "code",
      "execution_count": 115,
      "metadata": {
        "id": "yUxY_q7zFc8P"
      },
      "outputs": [],
      "source": [
        "test_labels = test['Sentiment'].values\n",
        "test_labels = ks.utils.to_categorical(test_labels,4,dtype=\"float32\")\n",
        "test_vectorized= vectorizer(test['tidy_tweet'])"
      ]
    },
    {
      "cell_type": "markdown",
      "metadata": {
        "id": "yk11XMXqM_Y4"
      },
      "source": [
        "Replaced the previous tweet processing code with Keras Text Vectorization"
      ]
    },
    {
      "cell_type": "code",
      "execution_count": 116,
      "metadata": {
        "id": "oi32WchNG4Ro"
      },
      "outputs": [],
      "source": [
        "X_train,X_test,y_train,y_test=train_test_split(train_vectorized.numpy(),train_labels, test_size=0.2)\n",
        "#Splitting training data with 80:20 split"
      ]
    },
    {
      "cell_type": "code",
      "execution_count": 117,
      "metadata": {
        "id": "_i5FM0_-DnXl"
      },
      "outputs": [],
      "source": [
        "def modelbuild():\n",
        "  model = ks.models.Sequential()\n",
        "  model.add(layers.Embedding(max_words,32,input_length=max_len))\n",
        "  model.add(layers.Conv1D(32,4, padding='same', activation='relu'))\n",
        "  model.add(layers.MaxPooling1D(pool_size=2))\n",
        "  model.add(layers.LSTM(32))\n",
        "  model.add(layers.Dropout(0.5))\n",
        "  model.add(layers.Dense(4, activation='softmax'))\n",
        "  model.compile(optimizer='Adam',loss=\"categorical_crossentropy\",metrics=[\"accuracy\"],)\n",
        "  return model\n",
        "#Neural Network Model"
      ]
    },
    {
      "cell_type": "code",
      "execution_count": 118,
      "metadata": {
        "colab": {
          "base_uri": "https://localhost:8080/"
        },
        "id": "s18QXK1ANq-h",
        "outputId": "d49cb68a-2407-4251-ff81-8c849ec8fad5"
      },
      "outputs": [
        {
          "name": "stdout",
          "output_type": "stream",
          "text": [
            "New Model y/n?\n",
            "y\n"
          ]
        }
      ],
      "source": [
        "print(\"New Model y/n?\")\n",
        "c=input()\n",
        "if c == 'y':\n",
        "  model=modelbuild()\n",
        "else:\n",
        "  model=ks.models.load_model('/content/models')"
      ]
    },
    {
      "cell_type": "code",
      "execution_count": 119,
      "metadata": {
        "id": "ecjrtqcHO2Hs"
      },
      "outputs": [],
      "source": [
        "stop = keras.callbacks.EarlyStopping(monitor='val_loss', patience=2, verbose=1, restore_best_weights=True)\n",
        "#safety to prevent overfitting, when val loss increases and restores the weights"
      ]
    },
    {
      "cell_type": "code",
      "execution_count": 127,
      "metadata": {
        "colab": {
          "base_uri": "https://localhost:8080/"
        },
        "id": "fuHomwugO8Lb",
        "outputId": "befb3c2f-27fd-49fb-f6d6-06344237f43d"
      },
      "outputs": [
        {
          "name": "stdout",
          "output_type": "stream",
          "text": [
            "Epoch 1/10\n",
            "2254/2254 [==============================] - 35s 15ms/step - loss: 0.3064 - accuracy: 0.8900 - val_loss: 0.5915 - val_accuracy: 0.8063\n",
            "Epoch 2/10\n",
            "2254/2254 [==============================] - 33s 15ms/step - loss: 0.2649 - accuracy: 0.9042 - val_loss: 0.5964 - val_accuracy: 0.8235\n",
            "Epoch 3/10\n",
            "2252/2254 [============================>.] - ETA: 0s - loss: 0.2353 - accuracy: 0.9140Restoring model weights from the end of the best epoch: 1.\n",
            "2254/2254 [==============================] - 35s 16ms/step - loss: 0.2355 - accuracy: 0.9140 - val_loss: 0.6083 - val_accuracy: 0.8263\n",
            "Epoch 3: early stopping\n"
          ]
        }
      ],
      "source": [
        "history = model.fit(X_train, y_train, epochs=10,validation_data=(X_test, y_test),callbacks=[stop])\n",
        "#training the model"
      ]
    },
    {
      "cell_type": "code",
      "execution_count": 128,
      "metadata": {
        "colab": {
          "base_uri": "https://localhost:8080/"
        },
        "id": "T9_5upLMO6f3",
        "outputId": "cc8ee53e-ee7f-423a-81ca-5aac02f3a7cb"
      },
      "outputs": [
        {
          "name": "stdout",
          "output_type": "stream",
          "text": [
            "564/564 - 3s - loss: 0.5915 - accuracy: 0.8063 - 3s/epoch - 5ms/step\n",
            "Model accuracy on validation data:  0.8063335418701172\n"
          ]
        }
      ],
      "source": [
        "test_loss, test_acc = model.evaluate(X_test, y_test, verbose=2)\n",
        "print('Model accuracy on validation data: ',test_acc)"
      ]
    },
    {
      "cell_type": "code",
      "execution_count": 129,
      "metadata": {
        "colab": {
          "base_uri": "https://localhost:8080/"
        },
        "id": "ZXNKvR2UDnXo",
        "outputId": "20686735-3a03-47ee-c480-367963850e6a"
      },
      "outputs": [
        {
          "name": "stdout",
          "output_type": "stream",
          "text": [
            "32/32 [==============================] - 0s 5ms/step - loss: 0.2671 - accuracy: 0.9240\n",
            "Model accuracy on testing data:  0.9240000247955322\n",
            "Want to save model?\n",
            "y\n"
          ]
        },
        {
          "name": "stderr",
          "output_type": "stream",
          "text": [
            "WARNING:absl:Found untraced functions such as _jit_compiled_convolution_op, _update_step_xla, lstm_cell_2_layer_call_fn, lstm_cell_2_layer_call_and_return_conditional_losses while saving (showing 4 of 4). These functions will not be directly callable after loading.\n"
          ]
        }
      ],
      "source": [
        "test_loss, test_acc = model.evaluate(test_vectorized.numpy(),test_labels, verbose=1)\n",
        "print('Model accuracy on testing data: ',test_acc)\n",
        "print(\"Want to save model?\")\n",
        "c=input()\n",
        "if c=='y':\n",
        "  ks.Model.save(model,'/content/models')"
      ]
    },
    {
      "cell_type": "code",
      "execution_count": 136,
      "metadata": {
        "colab": {
          "base_uri": "https://localhost:8080/"
        },
        "id": "UbdCQN_1tejL",
        "outputId": "824ed4b4-8db9-4517-96ea-e2bab760b945"
      },
      "outputs": [
        {
          "name": "stdout",
          "output_type": "stream",
          "text": [
            "564/564 [==============================] - 3s 5ms/step\n"
          ]
        }
      ],
      "source": [
        "y_pred=model.predict(X_test)\n",
        "max_idx = np.arange(y_pred.shape[0]), np.argmax(y_pred, axis=1)\n",
        "bool_array = np.zeros_like(y_pred)\n",
        "bool_array[max_idx] = 1"
      ]
    },
    {
      "cell_type": "code",
      "execution_count": 137,
      "metadata": {
        "colab": {
          "base_uri": "https://localhost:8080/",
          "height": 603
        },
        "id": "0u2Gz4x9sbZ9",
        "outputId": "62b40f48-6993-45cb-fb26-690e6c44d7d9"
      },
      "outputs": [
        {
          "name": "stdout",
          "output_type": "stream",
          "text": [
            "              precision    recall  f1-score   support\n",
            "\n",
            "           0       0.79      0.83      0.81      5160\n",
            "           1       0.87      0.77      0.82      5308\n",
            "\n",
            "   micro avg       0.83      0.80      0.82     10468\n",
            "   macro avg       0.83      0.80      0.82     10468\n",
            "weighted avg       0.83      0.80      0.82     10468\n",
            " samples avg       0.47      0.47      0.47     10468\n",
            "\n"
          ]
        },
        {
          "name": "stderr",
          "output_type": "stream",
          "text": [
            "/usr/local/lib/python3.8/dist-packages/sklearn/metrics/_classification.py:1318: UndefinedMetricWarning: Precision and F-score are ill-defined and being set to 0.0 in samples with no predicted labels. Use `zero_division` parameter to control this behavior.\n",
            "  _warn_prf(average, modifier, msg_start, len(result))\n",
            "/usr/local/lib/python3.8/dist-packages/sklearn/metrics/_classification.py:1318: UndefinedMetricWarning: Recall and F-score are ill-defined and being set to 0.0 in samples with no true labels. Use `zero_division` parameter to control this behavior.\n",
            "  _warn_prf(average, modifier, msg_start, len(result))\n"
          ]
        },
        {
          "data": {
            "text/plain": [
              "Text(0.5, 1.0, 'Confusion Matrix')"
            ]
          },
          "execution_count": 137,
          "metadata": {},
          "output_type": "execute_result"
        },
        {
          "data": {
            "image/png": "[encoded data removed]",
            "text/plain": [
              "<Figure size 432x288 with 2 Axes>"
            ]
          },
          "metadata": {
            "needs_background": "light"
          },
          "output_type": "display_data"
        }
      ],
      "source": [
        "# Print the evaluation metrics for the dataset.\n",
        "\n",
        "print(classification_report(y_test[:,1:3],bool_array[:,1:3]))\n",
        "# Compute and plot the Confusion matrix\n",
        "cf_matrix = confusion_matrix(y_test[:,1:3].argmax(axis=1),bool_array[:,1:3].argmax(axis=1))\n",
        "categories = ['Negative','Positive']\n",
        "group_names = ['True Neg','False Pos', 'False Neg','True Pos']\n",
        "group_percentages = ['{0:.2%}'.format(value) for value in cf_matrix.flatten() / np.sum(cf_matrix)]\n",
        "labels = [f'{v1}n{v2}' for v1, v2 in zip(group_names,group_percentages)]\n",
        "labels = np.asarray(labels).reshape(2,2)\n",
        "sns.heatmap(cf_matrix, annot = labels, cmap = 'Blues',fmt = '',xticklabels = categories, yticklabels = categories)\n",
        "plt.xlabel(\"Predicted values\", fontdict = {'size':14}, labelpad = 10)\n",
        "plt.ylabel(\"Actual values\" , fontdict = {'size':14}, labelpad = 10)\n",
        "plt.title (\"Confusion Matrix\", fontdict = {'size':18}, pad = 20)"
      ]
    },
    {
      "cell_type": "code",
      "execution_count": 139,
      "metadata": {
        "colab": {
          "base_uri": "https://localhost:8080/",
          "height": 621
        },
        "id": "THtmp9fDZ74G",
        "outputId": "51ab45bf-3e59-4716-debf-75350bbc26d2"
      },
      "outputs": [
        {
          "name": "stdout",
          "output_type": "stream",
          "text": [
            "32/32 [==============================] - 0s 8ms/step\n",
            "              precision    recall  f1-score   support\n",
            "\n",
            "           0       0.93      0.92      0.92       266\n",
            "           1       0.96      0.90      0.93       277\n",
            "\n",
            "   micro avg       0.94      0.91      0.92       543\n",
            "   macro avg       0.94      0.91      0.92       543\n",
            "weighted avg       0.94      0.91      0.92       543\n",
            " samples avg       0.49      0.49      0.49       543\n",
            "\n"
          ]
        },
        {
          "name": "stderr",
          "output_type": "stream",
          "text": [
            "/usr/local/lib/python3.8/dist-packages/sklearn/metrics/_classification.py:1318: UndefinedMetricWarning: Precision and F-score are ill-defined and being set to 0.0 in samples with no predicted labels. Use `zero_division` parameter to control this behavior.\n",
            "  _warn_prf(average, modifier, msg_start, len(result))\n",
            "/usr/local/lib/python3.8/dist-packages/sklearn/metrics/_classification.py:1318: UndefinedMetricWarning: Recall and F-score are ill-defined and being set to 0.0 in samples with no true labels. Use `zero_division` parameter to control this behavior.\n",
            "  _warn_prf(average, modifier, msg_start, len(result))\n"
          ]
        },
        {
          "data": {
            "text/plain": [
              "Text(0.5, 1.0, 'Confusion Matrix')"
            ]
          },
          "execution_count": 139,
          "metadata": {},
          "output_type": "execute_result"
        },
        {
          "data": {
            "image/png": "[encoded data removed]",
            "text/plain": [
              "<Figure size 432x288 with 2 Axes>"
            ]
          },
          "metadata": {
            "needs_background": "light"
          },
          "output_type": "display_data"
        }
      ],
      "source": [
        "test_pred=model.predict(test_vectorized.numpy())\n",
        "max_idx = np.arange(test_pred.shape[0]), np.argmax(test_pred, axis=1)\n",
        "bool_array = np.zeros_like(test_pred)\n",
        "bool_array[max_idx] = 1\n",
        "\n",
        "\n",
        "# Print the evaluation metrics for the dataset.\n",
        "\n",
        "print(classification_report(test_labels[:,1:3],bool_array[:,1:3]))\n",
        "# Compute and plot the Confusion matrix\n",
        "cf_matrix = confusion_matrix(test_labels[:,1:3].argmax(axis=1),bool_array[:,1:3].argmax(axis=1))\n",
        "categories = ['Negative','Positive']\n",
        "group_names = ['True Neg','False Pos', 'False Neg','True Pos']\n",
        "group_percentages = ['{0:.2%}'.format(value) for value in cf_matrix.flatten() / np.sum(cf_matrix)]\n",
        "labels = [f'{v1}n{v2}' for v1, v2 in zip(group_names,group_percentages)]\n",
        "labels = np.asarray(labels).reshape(2,2)\n",
        "sns.heatmap(cf_matrix, annot = labels, cmap = 'Blues',fmt = '',xticklabels = categories, yticklabels = categories)\n",
        "plt.xlabel(\"Predicted values\", fontdict = {'size':14}, labelpad = 10)\n",
        "plt.ylabel(\"Actual values\" , fontdict = {'size':14}, labelpad = 10)\n",
        "plt.title (\"Confusion Matrix\", fontdict = {'size':18}, pad = 20)"
      ]
    }
  ],
  "metadata": {
    "accelerator": "TPU",
    "colab": {
      "provenance": []
    },
    "gpuClass": "standard",
    "kernelspec": {
      "display_name": "Python 3",
      "language": "python",
      "name": "python3"
    },
    "language_info": {
      "name": "python",
      "version": "3.10.9"
    },
    "vscode": {
      "interpreter": {
        "hash": "2a8dfe095fce2b5e88c64a2c3ee084c8e0e0d70b23e7b95b1cfb538be294c5c8"
      }
    }
  },
  "nbformat": 4,
  "nbformat_minor": 0
}
