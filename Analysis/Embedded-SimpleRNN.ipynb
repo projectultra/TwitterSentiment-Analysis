{
  "cells": [
    {
      "cell_type": "code",
      "execution_count": null,
      "metadata": {
        "id": "O49jW7xOxFsp"
      },
      "outputs": [],
      "source": [
        "import numpy as np\n",
        "import pandas as pd\n",
        "import keras as ks\n",
        "import tensorflow as tf\n",
        "from tensorflow import keras\n",
        "from sklearn.model_selection import train_test_split\n",
        "from keras.preprocessing.text import Tokenizer\n",
        "from keras import layers\n",
        "from keras.utils import pad_sequences\n",
        "train = pd.read_csv('/trainining_dataset.csv')\n",
        "test = pd.read_csv('/testing_dataset.csv')\n",
        "#Importing necessary packages and files"
      ]
    },
    {
      "cell_type": "code",
      "execution_count": null,
      "metadata": {},
      "outputs": [],
      "source": [
        "train=train.astype(str)\n",
        "test=test.astype(str)\n",
        "train_labels = train['Sentiment'].values\n",
        "train_labels = ks.utils.to_categorical(train_labels,3,dtype=\"float32\")\n",
        "features = train['tidy_tweet'].values\n",
        "max_words = 5000\n",
        "max_len = 200\n",
        "tokenizer = Tokenizer(num_words=max_words)\n",
        "tokenizer.fit_on_texts(train['tidy_tweet'])\n",
        "sequences = tokenizer.texts_to_sequences(train['tidy_tweet'])\n",
        "train_tweets = pad_sequences(sequences, maxlen=max_len)\n",
        "test_labels = test['Sentiment'].values\n",
        "test_labels = ks.utils.to_categorical(test_labels,3,dtype=\"float32\")\n",
        "features = test['tidy_tweet'].values\n",
        "tokenizer = tf.keras.preprocessing.text.Tokenizer(num_words=max_words)\n",
        "tokenizer.fit_on_texts(test['tidy_tweet'])\n",
        "sequences = tokenizer.texts_to_sequences(test['tidy_tweet'])\n",
        "test_tweets = ks.utils.pad_sequences(sequences, maxlen=max_len)\n",
        "X_train,X_test,y_train,y_test=train_test_split(train_tweets,train_labels, test_size=0.2)\n",
        "#Tokenizing"
      ]
    },
    {
      "cell_type": "code",
      "execution_count": null,
      "metadata": {},
      "outputs": [],
      "source": [
        "def modelbuild():\n",
        "  model = ks.models.Sequential()\n",
        "  model.add(layers.Embedding(max_words,20))\n",
        "  model.add(layers.Dense(100,activation='relu'))\n",
        "  model.add(layers.SpatialDropout1D(0.4))\n",
        "  model.add(layers.SimpleRNN(15))\n",
        "  model.add(layers.Dense(3, activation='softmax'))\n",
        "  model.compile(optimizer='Adam',loss=\"categorical_crossentropy\",metrics=[\"accuracy\"],)\n",
        "  return model\n",
        "#Neural Network Model"
      ]
    },
    {
      "cell_type": "code",
      "execution_count": null,
      "metadata": {},
      "outputs": [],
      "source": [
        "print(\"New Model y/n?\")\n",
        "c=input()\n",
        "if c == 'y':\n",
        "  model=modelbuild()\n",
        "else:\n",
        "  model=ks.models.load_model('/models')\n",
        "history = model.fit(X_train, y_train, epochs=1,validation_data=(X_test, y_test))\n",
        "test_loss, test_acc = model.evaluate(X_test, y_test, verbose=2)\n",
        "print('Model accuracy on validation data: ',test_acc)"
      ]
    },
    {
      "cell_type": "code",
      "execution_count": null,
      "metadata": {},
      "outputs": [],
      "source": [
        "test_loss, test_acc = model.evaluate(test_tweets,test_labels, verbose=1)\n",
        "print('Model accuracy on testing data: ',test_acc)\n",
        "print(\"Want to save model?\")\n",
        "c=input()\n",
        "if c=='y':\n",
        "  ks.Model.save(model,'/models')"
      ]
    }
  ],
  "metadata": {
    "accelerator": "TPU",
    "colab": {
      "provenance": []
    },
    "gpuClass": "standard",
    "kernelspec": {
      "display_name": "Python 3",
      "language": "python",
      "name": "python3"
    },
    "language_info": {
      "name": "python",
      "version": "3.11.1 (tags/v3.11.1:a7a450f, Dec  6 2022, 19:58:39) [MSC v.1934 64 bit (AMD64)]"
    },
    "vscode": {
      "interpreter": {
        "hash": "c795d63dc8cfb5de7bcd07d29b5ba58277844ae54d77b796ffde21eff2f01dd2"
      }
    }
  },
  "nbformat": 4,
  "nbformat_minor": 0
}
